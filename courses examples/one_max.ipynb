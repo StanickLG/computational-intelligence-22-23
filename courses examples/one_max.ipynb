{
 "cells": [
  {
   "cell_type": "code",
   "execution_count": 6,
   "metadata": {},
   "outputs": [],
   "source": [
    "import random"
   ]
  },
  {
   "cell_type": "code",
   "execution_count": 7,
   "metadata": {},
   "outputs": [],
   "source": [
    "PROBLEM_SIZE = 10\n",
    "POPULATION_SIZE = 30\n",
    "OFFSPRING_SIZE = 20\n",
    "\n",
    "#Here we need steady state appraoche because here we don't generate a lot of offsprings"
   ]
  },
  {
   "cell_type": "code",
   "execution_count": 3,
   "metadata": {},
   "outputs": [],
   "source": [
    "def onemax(genome):\n",
    "    return sum(genome)\n",
    "    "
   ]
  },
  {
   "cell_type": "code",
   "execution_count": 11,
   "metadata": {},
   "outputs": [
    {
     "data": {
      "text/plain": [
       "[0, 0, 1, 0, 0, 1, 1, 1, 1, 0]"
      ]
     },
     "execution_count": 11,
     "metadata": {},
     "output_type": "execute_result"
    }
   ],
   "source": [
    "genome = [random.choice([1,0]) for _ in range(PROBLEM_SIZE)]\n",
    "genome"
   ]
  },
  {
   "cell_type": "code",
   "execution_count": 17,
   "metadata": {},
   "outputs": [
    {
     "data": {
      "text/plain": [
       "[(0, 0, 1, 1, 0, 1, 1, 0, 1, 1),\n",
       " (0, 1, 1, 1, 1, 1, 1, 1, 0, 1),\n",
       " (1, 1, 1, 0, 1, 0, 0, 0, 1, 1),\n",
       " (0, 1, 1, 0, 0, 1, 0, 0, 0, 0),\n",
       " (1, 1, 0, 0, 1, 0, 0, 1, 0, 1),\n",
       " (1, 1, 1, 0, 0, 0, 0, 1, 0, 1),\n",
       " (0, 0, 0, 0, 0, 1, 1, 1, 0, 1),\n",
       " (1, 0, 1, 1, 0, 0, 1, 0, 1, 1),\n",
       " (1, 1, 1, 1, 1, 0, 1, 1, 0, 0),\n",
       " (1, 0, 1, 1, 1, 1, 0, 0, 0, 0),\n",
       " (0, 1, 0, 0, 0, 1, 1, 1, 1, 0),\n",
       " (0, 0, 0, 1, 0, 0, 1, 1, 1, 0),\n",
       " (1, 1, 0, 0, 0, 0, 0, 1, 0, 0),\n",
       " (1, 0, 1, 1, 0, 1, 0, 0, 0, 1),\n",
       " (0, 1, 1, 1, 0, 0, 0, 1, 0, 0),\n",
       " (1, 1, 0, 1, 0, 0, 0, 0, 1, 0),\n",
       " (1, 1, 1, 0, 1, 1, 1, 0, 0, 1),\n",
       " (0, 1, 0, 1, 1, 1, 0, 0, 0, 0),\n",
       " (1, 1, 1, 0, 1, 1, 0, 1, 0, 1),\n",
       " (1, 0, 1, 1, 0, 1, 0, 1, 1, 0),\n",
       " (0, 1, 1, 1, 1, 0, 0, 0, 0, 0),\n",
       " (1, 1, 0, 1, 0, 0, 1, 1, 1, 1),\n",
       " (1, 0, 0, 1, 0, 0, 1, 0, 1, 0),\n",
       " (0, 0, 1, 0, 1, 1, 0, 0, 1, 0),\n",
       " (1, 1, 0, 1, 0, 1, 0, 0, 0, 0),\n",
       " (0, 0, 0, 1, 0, 0, 0, 0, 1, 1),\n",
       " (0, 1, 1, 0, 0, 0, 0, 1, 0, 1),\n",
       " (0, 0, 0, 1, 0, 1, 0, 1, 1, 0),\n",
       " (1, 1, 0, 0, 0, 0, 1, 1, 1, 0),\n",
       " (1, 0, 0, 0, 0, 0, 1, 1, 0, 0)]"
      ]
     },
     "execution_count": 17,
     "metadata": {},
     "output_type": "execute_result"
    }
   ],
   "source": [
    "population = []\n",
    "\n",
    "for genome in [tuple([random.choice([1,0]) for _ in range(PROBLEM_SIZE)]) for __ in range(POPULATION_SIZE)]:\n",
    "    population.append((genome, onemax(genome)))"
   ]
  }
 ],
 "metadata": {
  "kernelspec": {
   "display_name": "Python 3.9.13 ('computational-intelligence-SWTN_zlX-py3.9')",
   "language": "python",
   "name": "python3"
  },
  "language_info": {
   "codemirror_mode": {
    "name": "ipython",
    "version": 3
   },
   "file_extension": ".py",
   "mimetype": "text/x-python",
   "name": "python",
   "nbconvert_exporter": "python",
   "pygments_lexer": "ipython3",
   "version": "3.9.13"
  },
  "orig_nbformat": 4,
  "vscode": {
   "interpreter": {
    "hash": "ea6591f86990eea142b62906c4fb5104e2afddac4d1a3cbe8030aa89526ba03b"
   }
  }
 },
 "nbformat": 4,
 "nbformat_minor": 2
}
