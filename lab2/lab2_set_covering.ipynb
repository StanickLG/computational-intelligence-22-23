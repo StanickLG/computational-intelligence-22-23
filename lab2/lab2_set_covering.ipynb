{
 "cells": [
  {
   "cell_type": "code",
   "execution_count": null,
   "metadata": {},
   "outputs": [],
   "source": []
  },
  {
   "cell_type": "markdown",
   "metadata": {},
   "source": [
    "# Lab 2: Set Covering\n",
    "\n",
    "Second lab + peer review. List this activity in your final report, it will be part of your exam.\n",
    "\n",
    "## Task\n",
    "\n",
    "Given a number $N$ and some lists of integers $P = (L_0, L_1, L_2, ..., L_n)$, \n",
    "determine, if possible, $S = (L_{s_0}, L_{s_1}, L_{s_2}, ..., L_{s_n})$\n",
    "such that each number between $0$ and $N-1$ appears in at least one list\n",
    "\n",
    "$$\\forall n \\in [0, N-1] \\ \\exists i : n \\in L_{s_i}$$\n",
    "\n",
    "and that the total numbers of elements in all $L_{s_i}$ is minimum. \n",
    "\n",
    "## Instructions\n",
    "\n",
    "* Create the directory `lab2` inside the course repo (the one you registered with Andrea)\n",
    "* Put a `README.md` and your solution (all the files, code and auxiliary data if needed)\n",
    "* Use `problem` to generate the problems with different $N$\n",
    "* In the `README.md`, report the the total numbers of elements in $L_{s_i}$ for problem with $N \\in [5, 10, 20, 100, 500, 1000]$ and the total number on $nodes$ visited during the search. Use `seed=42`.\n",
    "* Use `GitHub Issues` to peer review others' lab\n",
    "\n",
    "## Notes\n",
    "\n",
    "* Working in group is not only allowed, but recommended (see: [Ubuntu](https://en.wikipedia.org/wiki/Ubuntu_philosophy) and [Cooperative Learning](https://files.eric.ed.gov/fulltext/EJ1096789.pdf)). Collaborations must be explicitly declared in the `README.md`.\n",
    "* [Yanking](https://www.emacswiki.org/emacs/KillingAndYanking) from the internet is allowed, but sources must be explicitly declared in the `README.md`.\n",
    "\n",
    "**Deadline**\n",
    "\n",
    "* Sunday, November 6th 23:59:59 for the working solution\n",
    "* Sunday, November 13th 23:59:59 for the peer reviews"
   ]
  },
  {
   "cell_type": "code",
   "execution_count": null,
   "metadata": {},
   "outputs": [],
   "source": [
    "import logging\n",
    "import random\n",
    "from time import time\n",
    "from collections import namedtuple\n",
    "from matplotlib import pyplot as plt"
   ]
  },
  {
   "cell_type": "markdown",
   "metadata": {},
   "source": [
    "## Problem instances generator"
   ]
  },
  {
   "cell_type": "code",
   "execution_count": null,
   "metadata": {},
   "outputs": [],
   "source": [
    "def problem(N, seed=None):\n",
    "    \"\"\"Creates an instance of the problem\"\"\"\n",
    "\n",
    "    random.seed(seed)\n",
    "    return [\n",
    "        list(set(random.randint(0, N - 1) for n in range(random.randint(N // 5, N // 2))))\n",
    "        for n in range(random.randint(N, N * 5))\n",
    "    ]"
   ]
  },
  {
   "cell_type": "code",
   "execution_count": null,
   "metadata": {},
   "outputs": [],
   "source": [
    "SET_COVERING_SIZE = 100      # Size = 5, 10, 20, 50, 100, 50, 1000\n",
    "POPULATION_SIZE = 20000\n",
    "OFFSPRING_SIZE = 500\n",
    "NUM_GENERATIONS = 500\n"
   ]
  },
  {
   "cell_type": "code",
   "execution_count": null,
   "metadata": {},
   "outputs": [],
   "source": [
    "Individual = namedtuple(\"Individual\", [\"sol_covering\", \"fitness\"])\n",
    "\n",
    "\n",
    "def fitness_sol(solution):\n",
    "    return sum(len(_) for _ in solution)\n",
    "\n",
    "\n",
    "def tournament(population, tournament_size=2):\n",
    "    return max(random.choices(population, k=tournament_size), key=lambda i: i.fitness)\n",
    "\n",
    "\n",
    "def cross_over(g1, g2):\n",
    "    cut = random.randint(0, min(len(g1), len(g2))-1)\n",
    "    return g1[:cut] + g2[cut:]\n",
    "\n",
    "def mutation(g):\n",
    "    point = random.randint(0, len(g) - 1)\n",
    "    return g[:point] + g[point + 1 :]\n",
    "\n",
    "def mutation1(g):\n",
    "    genome = g.copy()\n",
    "    keeped = list()\n",
    "\n",
    "    for i in range(len(genome)):\n",
    "        if random.random() > 0.80:\n",
    "            keeped_elem = list()\n",
    "            for j in range(len(genome[i])):\n",
    "                if random.random() > 0.65:\n",
    "                    keeped_elem.append(genome[i][j])\n",
    "            keeped.append(keeped_elem)\n",
    "        else:\n",
    "            keeped.append(genome[i])\n",
    "\n",
    "    return keeped\n",
    "\n",
    "def is_valid(g):\n",
    "\n",
    "    goal = set(range(SET_COVERING_SIZE))\n",
    "    covered = set()\n",
    "    for _ in g:\n",
    "        covered |= set(_)\n",
    "\n",
    "    return covered == goal"
   ]
  },
  {
   "cell_type": "markdown",
   "metadata": {},
   "source": [
    "# Genetics algorithm"
   ]
  },
  {
   "cell_type": "code",
   "execution_count": null,
   "metadata": {},
   "outputs": [],
   "source": [
    "logging.getLogger().setLevel(logging.INFO)"
   ]
  },
  {
   "cell_type": "markdown",
   "metadata": {},
   "source": [
    "## Initial Population"
   ]
  },
  {
   "cell_type": "code",
   "execution_count": null,
   "metadata": {},
   "outputs": [],
   "source": [
    "def init_population(problem):\n",
    "\n",
    "    population = list()\n",
    "\n",
    "    for _ in range(POPULATION_SIZE):\n",
    "        goal = set(range(SET_COVERING_SIZE))\n",
    "        covered = set()\n",
    "        sol_covering = list()\n",
    "        lists_to_use = problem.copy()\n",
    "        \n",
    "        while goal != covered:\n",
    "            to_pop = random.randint(0, len(lists_to_use)-1)\n",
    "            x = lists_to_use.pop(to_pop)\n",
    "            if not set(x) < covered:\n",
    "                sol_covering.append(x)\n",
    "                covered |= set(x)\n",
    "\n",
    "        population.append(Individual(sol_covering, fitness_sol(sol_covering)))\n",
    "\n",
    "    logging.info(f\"init: pop_size={len(population)}; max={max(population, key=lambda i: i.fitness)[1]}; min={min(population, key=lambda i: i.fitness)[1]}\")\n",
    "    return population\n",
    "\n"
   ]
  },
  {
   "cell_type": "markdown",
   "metadata": {},
   "source": [
    "## Evolution"
   ]
  },
  {
   "cell_type": "code",
   "execution_count": null,
   "metadata": {},
   "outputs": [],
   "source": [
    "population = init_population(problem(SET_COVERING_SIZE, seed=42))\n",
    "fitness_log = [(0, i.fitness) for i in population]\n",
    "\n",
    "\n",
    "start = time()\n",
    "\n",
    "for g in range(NUM_GENERATIONS):\n",
    "    offspring = list()\n",
    "    for i in range(OFFSPRING_SIZE):\n",
    "        if random.random() < 0.3:\n",
    "            p = tournament(population)\n",
    "            o = mutation1(p.sol_covering)\n",
    "            while not is_valid(o):\n",
    "                p1 = tournament(population)\n",
    "                p2 = tournament(population)\n",
    "                o = cross_over(p1.sol_covering, p2.sol_covering)\n",
    "        else:\n",
    "            while not is_valid(o):\n",
    "                p1 = tournament(population)\n",
    "                p2 = tournament(population)\n",
    "                o = cross_over(p1.sol_covering, p2.sol_covering)\n",
    "        f = fitness_sol(o)\n",
    "        fitness_log.append((g + 1, f))\n",
    "        offspring.append(Individual(o, f))\n",
    "    population += offspring\n",
    "    population = sorted(population, key=lambda i: i.fitness)\n",
    "\n",
    "end = time()\n",
    "\n",
    "\n",
    "better = population[0]\n",
    "print(\"Better solution: \", better, \"(validity : \", is_valid(better.sol_covering), \")\")\n",
    "print(\"Cost = \", better.fitness)\n",
    "print(\"Bloat = \", (sum(len(_) for _ in better.sol_covering)-SET_COVERING_SIZE)/SET_COVERING_SIZE*100, \"%\")\n",
    "print(f\"Elapsed time: {end - start}s\")\n",
    "\n"
   ]
  },
  {
   "cell_type": "code",
   "execution_count": null,
   "metadata": {},
   "outputs": [],
   "source": [
    "off_line = [max(f[1] for f in fitness_log if f[0] == x) / (x + 1) for x in range(NUM_GENERATIONS)]\n",
    "on_line = [max(f[1] for f in fitness_log if f[0] <= x) / (x + 1) for x in range(NUM_GENERATIONS)]\n",
    "gen_best = [max(f[1] for f in fitness_log if f[0] == x) for x in range(NUM_GENERATIONS)]\n",
    "\n",
    "plt.figure(figsize=(15, 6))\n",
    "plt.scatter([x for x, _ in fitness_log], [y for _, y in fitness_log], marker=\".\")\n",
    "plt.plot([x for x, _ in enumerate(gen_best)], [y for _, y in enumerate(gen_best)])\n",
    "plt.plot([x for x, _ in enumerate(on_line)], [y for _, y in enumerate(on_line)])\n",
    "plt.plot([x for x, _ in enumerate(off_line)], [y for _, y in enumerate(off_line)])"
   ]
  }
 ],
 "metadata": {
  "kernelspec": {
   "display_name": "Python 3.9.13 64-bit (microsoft store)",
   "language": "python",
   "name": "python3"
  },
  "language_info": {
   "codemirror_mode": {
    "name": "ipython",
    "version": 3
   },
   "file_extension": ".py",
   "mimetype": "text/x-python",
   "name": "python",
   "nbconvert_exporter": "python",
   "pygments_lexer": "ipython3",
   "version": "3.9.13"
  },
  "orig_nbformat": 4,
  "vscode": {
   "interpreter": {
    "hash": "e6a9c22c4b43251046e03502f7b957b16b5030ba9d2f1ef271a04375ca362ae8"
   }
  }
 },
 "nbformat": 4,
 "nbformat_minor": 2
}
